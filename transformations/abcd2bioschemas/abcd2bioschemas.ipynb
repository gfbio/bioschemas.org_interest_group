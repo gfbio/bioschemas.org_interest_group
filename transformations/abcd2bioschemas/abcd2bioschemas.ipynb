{
 "cells": [
  {
   "cell_type": "code",
   "execution_count": 1,
   "id": "71bcacf7",
   "metadata": {},
   "outputs": [
    {
     "name": "stdout",
     "output_type": "stream",
     "text": [
      "Defaulting to user installation because normal site-packages is not writeable\n",
      "Requirement already satisfied: saxonche in c:\\users\\mernst\\appdata\\roaming\\python\\python39\\site-packages (12.4.2)\n"
     ]
    },
    {
     "name": "stderr",
     "output_type": "stream",
     "text": [
      "\n",
      "[notice] A new release of pip is available: 23.1.2 -> 24.0\n",
      "[notice] To update, run: python.exe -m pip install --upgrade pip\n"
     ]
    },
    {
     "name": "stdout",
     "output_type": "stream",
     "text": [
      "Defaulting to user installation because normal site-packages is not writeable\n",
      "Requirement already satisfied: xmltodict in c:\\users\\mernst\\appdata\\roaming\\python\\python39\\site-packages (0.13.0)\n"
     ]
    },
    {
     "name": "stderr",
     "output_type": "stream",
     "text": [
      "\n",
      "[notice] A new release of pip is available: 23.1.2 -> 24.0\n",
      "[notice] To update, run: python.exe -m pip install --upgrade pip\n"
     ]
    }
   ],
   "source": [
    "#if not already installed, install saxonche (https://www.saxonica.com/saxon-c/index.xml ) and xmltodict (https://github.com/martinblech/xmltodict/ ) libraries\n",
    "!pip install saxonche\n",
    "!pip install xmltodict"
   ]
  },
  {
   "cell_type": "code",
   "execution_count": 1,
   "id": "c16196d8",
   "metadata": {},
   "outputs": [],
   "source": [
    "import saxonche as saxon\n",
    "import xmltodict, json"
   ]
  },
  {
   "cell_type": "code",
   "execution_count": 2,
   "id": "0784e107",
   "metadata": {},
   "outputs": [],
   "source": [
    "input_file_base = \"example_files/HoffmannPlantsV3\"\n",
    "input_file = input_file_base + \".xml\"\n",
    "stylesheet_file = \"abcd2bioschemas-xml.xslt\""
   ]
  },
  {
   "cell_type": "code",
   "execution_count": 3,
   "id": "daebdd55",
   "metadata": {
    "scrolled": true
   },
   "outputs": [
    {
     "name": "stdout",
     "output_type": "stream",
     "text": [
      "Test SaxonC on Python\n",
      "SaxonC-HE 12.4.2 from Saxonica\n"
     ]
    }
   ],
   "source": [
    "from saxonche import PySaxonProcessor\n",
    "with PySaxonProcessor(license=False) as proc:\n",
    "    print(\"Test SaxonC on Python\")\n",
    "    print(proc.version)\n",
    "    xslt30proc = proc.new_xslt30_processor()"
   ]
  },
  {
   "cell_type": "code",
   "execution_count": 4,
   "id": "1daebf42",
   "metadata": {},
   "outputs": [
    {
     "data": {
      "text/plain": [
       "'<?xml version=\"1.0\" encoding=\"UTF-8\"?>\\n<jsonld xmlns:abcd=\"http://www.tdwg.org/schemas/abcd/2.06\"\\n        xmlns:efg=\"http://www.synthesys.info/ABCDEFG/1.0\"\\n        xmlns:xs=\"http://www.w3.org/2001/XMLSchema\"\\n        xmlns:xsi=\"http://www.w3.org/2001/XMLSchema-instance\"\\n        context=\"http://schema.org/\"\\n        type=\"Dataset\"\\n        id=\"https://data.bgbm.org/dataset/gfbio/0004/\">\\n   <id>https://data.bgbm.org/dataset/gfbio/0004/</id>\\n   <name>Plants at Crater Road of Queen Elizabeth National Park, Uganda.</name>\\n   <url>https://data.bgbm.org/dataset/gfbio/0004/</url>\\n   <description>Plant occurrences at Crater Road, Queen Elizabeth National Park, Uganda (April 1995 until March 1997). Project data from Dr. Anke Hoffmann, supplementary data of the dissertation: \"Hoffmann, Anke (1999). Habitat use and population dynamics of small mammals in the grasslands of the Queen Elizabeth National Park, Uganda. Dissertation Technische Universität Carolo-Wilhelmina zu Braunschweig. Braunschweig.\" This dataset was mobilized in co-operation with the DFG-funded project reBiND (http://rebind.bgbm.org/). The following Abstract describes the dissertation: In the grasslands of Queen Elizabeth National Park in Uganda small mammal populations were studied between April 1995 and March 1997 using the capture-mark-release-method and radio-telemetry. The 6 study plots were situated in the Imperata-Cymbopogon-grassland and in the bushland-grassland-mosaic and differed mainly in vegetation, habitat structures, cover and grazing pressure due to big game. The effect of fire was an important aspect to all questions of the study. In total 5.702 catches including 1.295 individuals out of 20 species of the families Muridae (12), Myoxidae (1) und Soricidae (7) were recorded in 65 trapping sessions. The most abundant species were Lemniscomys striatus, Mastomys natalensis and Arvicanthis nairobae. For all plots zoocoenosis and dominance structures are described as well as similarity of fauna and species diversity are compared. The population structures of the 3 most common species are compared in 2 plots of their highest abundance. Emphasis of the investigation is laid on the population development, sex ratio, weight and reproduction. Beyond the survival and turnover rates are determined for these populations. For all species habitat preferences are described. The range lenghts of L. striatus and M. natalensis were ascertained for different plots. Their dependence of population density, sex, sexual activity, body weight, rainfall and bush fire is revised. In all 9 L. striatus, 7 M. natalensis and 8 A. nairobae were radio-tracked successfully and their home range sizes, utilization patterns and activities investigated. For these species an inverse relationship between home range size and population density exists.</description>\\n   <inLanguage>en</inLanguage>\\n   <additionalType>HumanObservation</additionalType>\\n   <dateCreated>1999-10-19</dateCreated>\\n   <dateModified>2018-01-22</dateModified>\\n   <datePublished>2018-01-22</datePublished>\\n   <distribution/>\\n   <isAccessibleForFree xsi:type=\"xs:boolean\">true</isAccessibleForFree>\\n   <size type=\"QuantitativeValue\">\\n      <value xsi:type=\"xs:int\">267</value>\\n      <unitText>records</unitText>\\n   </size>\\n   <license type=\"CreativeWork\">\\n      <name>CC BY 4.0</name>\\n      <description/>\\n   </license>\\n   <spatialCoverage type=\"Country\">\\n      <name> Uganda</name>\\n      <identifier>UG </identifier>\\n   </spatialCoverage>\\n   <temporalCoverage>1995-06-13/1997-03-13</temporalCoverage>\\n   <reverse>\\n      <citation type=\"CreativeWork\">\\n         <name>Publication 1 citing this record</name>\\n         <description>Aristida adscensionis cited from Hoffmann</description>\\n         <identifier>https://data-rebind.bgbm.org/gfbio/biocase/pub1</identifier>\\n      </citation>\\n      <citation type=\"CreativeWork\">\\n         <name>Publication 2 citing this record</name>\\n         <description>Aristida adscensionis cited from Hoffmann</description>\\n         <identifier>https://data-rebind.bgbm.org/gfbio/biocase/pub2</identifier>\\n      </citation>\\n      <citation type=\"CreativeWork\">\\n         <name>Publication 1 citing this record</name>\\n         <description>Bothriochloa insculpta cited from Hoffmann</description>\\n         <identifier>https://data-rebind.bgbm.org/gfbio/biocase/pub1</identifier>\\n      </citation>\\n      <citation type=\"CreativeWork\">\\n         <name>Publication 2 citing this record</name>\\n         <description>Bothriochloa insculpta cited from Hoffmann</description>\\n         <identifier>https://data-rebind.bgbm.org/gfbio/biocase/pub2</identifier>\\n      </citation>\\n   </reverse>\\n   <about type=\"Taxon\">\\n      <name>Aristida adscensionis</name>\\n      <taxonRank>Species</taxonRank>\\n   </about>\\n   <about type=\"Taxon\">\\n      <name>Bothriochloa insculpta</name>\\n      <taxonRank>Species</taxonRank>\\n   </about>\\n   <about type=\"Taxon\">\\n      <name>Cenchrus ciliaris</name>\\n      <taxonRank>Species</taxonRank>\\n   </about>\\n   <about type=\"Taxon\">\\n      <name>Chloris gayana</name>\\n      <taxonRank>Species</taxonRank>\\n   </about>\\n   <about type=\"Taxon\">\\n      <name>Sporobolus pyramidalis</name>\\n      <taxonRank>Species</taxonRank>\\n   </about>\\n   <about type=\"Taxon\">\\n      <name>Themeda triandra</name>\\n      <taxonRank>Species</taxonRank>\\n   </about>\\n   <about type=\"Taxon\">\\n      <name>Sida ovata</name>\\n      <taxonRank>Species</taxonRank>\\n   </about>\\n   <about type=\"Taxon\">\\n      <name>Acacia hockii</name>\\n      <taxonRank>Species</taxonRank>\\n   </about>\\n   <about type=\"Taxon\">\\n      <name>Achyranthes aspera</name>\\n      <taxonRank>Species</taxonRank>\\n   </about>\\n   <about type=\"Taxon\">\\n      <name>Capparis tomentosa</name>\\n      <taxonRank>Species</taxonRank>\\n   </about>\\n   <about type=\"Taxon\">\\n      <name>Erythrococca bongensis</name>\\n      <taxonRank>Species</taxonRank>\\n   </about>\\n   <about type=\"Taxon\">\\n      <name>Euphorbia candelabrum</name>\\n      <taxonRank>Species</taxonRank>\\n   </about>\\n   <about type=\"Taxon\">\\n      <name>Flueggea virosa</name>\\n      <taxonRank>Species</taxonRank>\\n   </about>\\n   <about type=\"Taxon\">\\n      <name>Hoslundia opposita</name>\\n      <taxonRank>Species</taxonRank>\\n   </about>\\n   <about type=\"Taxon\">\\n      <name>Ocimum suave</name>\\n      <taxonRank>Species</taxonRank>\\n   </about>\\n   <about type=\"Taxon\">\\n      <name>Abutilon guineense</name>\\n      <taxonRank>Species</taxonRank>\\n   </about>\\n   <about type=\"Taxon\">\\n      <name>Grewia similis</name>\\n      <taxonRank>Species</taxonRank>\\n   </about>\\n   <about type=\"Taxon\">\\n      <name>Cissus quadrangularis</name>\\n      <taxonRank>Species</taxonRank>\\n   </about>\\n   <about type=\"Taxon\">\\n      <name>Hyperthelia dissoluta</name>\\n      <taxonRank>Species</taxonRank>\\n   </about>\\n   <about type=\"Taxon\">\\n      <name>Hyparrhenia rufa</name>\\n      <taxonRank>Species</taxonRank>\\n   </about>\\n   <about type=\"Taxon\">\\n      <name>Abutilon hirtum</name>\\n      <taxonRank>Species</taxonRank>\\n   </about>\\n   <about type=\"Taxon\">\\n      <name>Lantana camara</name>\\n      <taxonRank>Species</taxonRank>\\n   </about>\\n   <about type=\"Taxon\">\\n      <name>Euphorbia hirta</name>\\n      <taxonRank>Species</taxonRank>\\n   </about>\\n   <about type=\"Taxon\">\\n      <name>Indigofera simplicifolia</name>\\n      <taxonRank>Species</taxonRank>\\n   </about>\\n   <about type=\"Taxon\">\\n      <name>Indigofera spicata</name>\\n      <taxonRank>Species</taxonRank>\\n   </about>\\n   <about type=\"Taxon\">\\n      <name>Tephrosia nana</name>\\n      <taxonRank>Species</taxonRank>\\n   </about>\\n   <about type=\"Taxon\">\\n      <name>Vigna ambacensis</name>\\n      <taxonRank>Species</taxonRank>\\n   </about>\\n   <about type=\"Taxon\">\\n      <name>Lantana trifolia</name>\\n      <taxonRank>Species</taxonRank>\\n   </about>\\n   <about type=\"Taxon\">\\n      <name>Solanum incanum</name>\\n      <taxonRank>Species</taxonRank>\\n   </about>\\n   <about type=\"Taxon\">\\n      <name>Conyza stricta</name>\\n      <taxonRank>Species</taxonRank>\\n   </about>\\n   <about type=\"Taxon\">\\n      <name>Panicum maximum</name>\\n      <taxonRank>Species</taxonRank>\\n   </about>\\n   <about type=\"Taxon\">\\n      <name>Turraea robusta</name>\\n      <taxonRank>Species</taxonRank>\\n   </about>\\n   <about type=\"Taxon\">\\n      <name>Acacia sieberiana</name>\\n      <taxonRank>Species</taxonRank>\\n   </about>\\n   <about type=\"Taxon\">\\n      <name>Tarenna graveolens</name>\\n      <taxonRank>Species</taxonRank>\\n   </about>\\n   <about type=\"Taxon\">\\n      <name>Cissus ovata</name>\\n      <taxonRank>Species</taxonRank>\\n   </about>\\n   <about type=\"Taxon\">\\n      <name>Brachiaria eminii</name>\\n      <taxonRank>Species</taxonRank>\\n   </about>\\n   <about type=\"Taxon\">\\n      <name>Indigofera arrecta</name>\\n      <taxonRank>Species</taxonRank>\\n   </about>\\n   <about type=\"Taxon\">\\n      <name>Leonotis nepetifolia</name>\\n      <taxonRank>Species</taxonRank>\\n   </about>\\n   <about type=\"Taxon\">\\n      <name>Leucas martinicensis</name>\\n      <taxonRank>Species</taxonRank>\\n   </about>\\n   <about type=\"Taxon\">\\n      <name>Hibiscus aethiopicus</name>\\n      <taxonRank>Species</taxonRank>\\n   </about>\\n   <about type=\"Taxon\">\\n      <name>Cissus rotundifolia</name>\\n      <taxonRank>Species</taxonRank>\\n   </about>\\n   <about type=\"Taxon\">\\n      <name>Heteropogon contortus</name>\\n      <taxonRank>Species</taxonRank>\\n   </about>\\n   <about type=\"Taxon\">\\n      <name>Cayratia ibuensis</name>\\n      <taxonRank>Species</taxonRank>\\n   </about>\\n   <about type=\"Taxon\">\\n      <name>Maerua triphylla</name>\\n      <taxonRank>Species</taxonRank>\\n   </about>\\n   <about type=\"Taxon\">\\n      <name>Hibiscus aponeurus</name>\\n      <taxonRank>Species</taxonRank>\\n   </about>\\n   <about type=\"Taxon\">\\n      <name>Piper sp.</name>\\n      <taxonRank>Species</taxonRank>\\n   </about>\\n   <about type=\"Taxon\">\\n      <name>Pavetta albertina</name>\\n      <taxonRank>Species</taxonRank>\\n   </about>\\n   <about type=\"Taxon\">\\n      <name>Plantae</name>\\n      <taxonRank>regnum</taxonRank>\\n   </about>\\n   <about type=\"Taxon\">\\n      <name>Gramineae</name>\\n      <taxonRank>familia</taxonRank>\\n   </about>\\n   <about type=\"Taxon\">\\n      <name>Malvaceae</name>\\n      <taxonRank>familia</taxonRank>\\n   </about>\\n   <about type=\"Taxon\">\\n      <name>Mimosaceae</name>\\n      <taxonRank>familia</taxonRank>\\n   </about>\\n   <about type=\"Taxon\">\\n      <name>Amaranthaceae</name>\\n      <taxonRank>familia</taxonRank>\\n   </about>\\n   <about type=\"Taxon\">\\n      <name>Capparidaceae</name>\\n      <taxonRank>familia</taxonRank>\\n   </about>\\n   <about type=\"Taxon\">\\n      <name>Euphorbiaceae</name>\\n      <taxonRank>familia</taxonRank>\\n   </about>\\n   <about type=\"Taxon\">\\n      <name>Labiatae</name>\\n      <taxonRank>familia</taxonRank>\\n   </about>\\n   <about type=\"Taxon\">\\n      <name>Tiliaceae</name>\\n      <taxonRank>familia</taxonRank>\\n   </about>\\n   <about type=\"Taxon\">\\n      <name>Vitaceae</name>\\n      <taxonRank>familia</taxonRank>\\n   </about>\\n   <about type=\"Taxon\">\\n      <name>Verbenaceae</name>\\n      <taxonRank>familia</taxonRank>\\n   </about>\\n   <about type=\"Taxon\">\\n      <name>Papilioniaceae</name>\\n      <taxonRank>familia</taxonRank>\\n   </about>\\n   <about type=\"Taxon\">\\n      <name>Solanaceae</name>\\n      <taxonRank>familia</taxonRank>\\n   </about>\\n   <about type=\"Taxon\">\\n      <name>Compositae</name>\\n      <taxonRank>familia</taxonRank>\\n   </about>\\n   <about type=\"Taxon\">\\n      <name>Meliaceae</name>\\n      <taxonRank>familia</taxonRank>\\n   </about>\\n   <about type=\"Taxon\">\\n      <name>Rubiaceae</name>\\n      <taxonRank>familia</taxonRank>\\n   </about>\\n   <about type=\"Taxon\">\\n      <name>Piperaceae</name>\\n      <taxonRank>familia</taxonRank>\\n   </about>\\n   <about type=\"Taxon\">\\n      <name>Aristida adscensionis</name>\\n      <taxonRank>Species</taxonRank>\\n   </about>\\n   <about type=\"Taxon\">\\n      <name>Bothriochloa insculpta</name>\\n      <taxonRank>Species</taxonRank>\\n   </about>\\n   <about type=\"Taxon\">\\n      <name>Cenchrus ciliaris</name>\\n      <taxonRank>Species</taxonRank>\\n   </about>\\n   <about type=\"Taxon\">\\n      <name>Chloris gayana</name>\\n      <taxonRank>Species</taxonRank>\\n   </about>\\n   <about type=\"Taxon\">\\n      <name>Sporobolus pyramidalis</name>\\n      <taxonRank>Species</taxonRank>\\n   </about>\\n   <about type=\"Taxon\">\\n      <name>Themeda triandra</name>\\n      <taxonRank>Species</taxonRank>\\n   </about>\\n   <about type=\"Taxon\">\\n      <name>Sida ovata</name>\\n      <taxonRank>Species</taxonRank>\\n   </about>\\n   <about type=\"Taxon\">\\n      <name>Acacia hockii</name>\\n      <taxonRank>Species</taxonRank>\\n   </about>\\n   <about type=\"Taxon\">\\n      <name>Achyranthes aspera</name>\\n      <taxonRank>Species</taxonRank>\\n   </about>\\n   <about type=\"Taxon\">\\n      <name>Capparis tomentosa</name>\\n      <taxonRank>Species</taxonRank>\\n   </about>\\n   <about type=\"Taxon\">\\n      <name>Erythrococca bongensis</name>\\n      <taxonRank>Species</taxonRank>\\n   </about>\\n   <about type=\"Taxon\">\\n      <name>Euphorbia candelabrum</name>\\n      <taxonRank>Species</taxonRank>\\n   </about>\\n   <about type=\"Taxon\">\\n      <name>Flueggea virosa</name>\\n      <taxonRank>Species</taxonRank>\\n   </about>\\n   <about type=\"Taxon\">\\n      <name>Hoslundia opposita</name>\\n      <taxonRank>Species</taxonRank>\\n   </about>\\n   <about type=\"Taxon\">\\n      <name>Ocimum suave</name>\\n      <taxonRank>Species</taxonRank>\\n   </about>\\n   <about type=\"Taxon\">\\n      <name>Abutilon guineense</name>\\n      <taxonRank>Species</taxonRank>\\n   </about>\\n   <about type=\"Taxon\">\\n      <name>Grewia similis</name>\\n      <taxonRank>Species</taxonRank>\\n   </about>\\n   <about type=\"Taxon\">\\n      <name>Cissus quadrangularis</name>\\n      <taxonRank>Species</taxonRank>\\n   </about>\\n   <about type=\"Taxon\">\\n      <name>Hyperthelia dissoluta</name>\\n      <taxonRank>Species</taxonRank>\\n   </about>\\n   <about type=\"Taxon\">\\n      <name>Hyparrhenia rufa</name>\\n      <taxonRank>Species</taxonRank>\\n   </about>\\n   <about type=\"Taxon\">\\n      <name>Abutilon hirtum</name>\\n      <taxonRank>Species</taxonRank>\\n   </about>\\n   <about type=\"Taxon\">\\n      <name>Lantana camara</name>\\n      <taxonRank>Species</taxonRank>\\n   </about>\\n   <about type=\"Taxon\">\\n      <name>Euphorbia hirta</name>\\n      <taxonRank>Species</taxonRank>\\n   </about>\\n   <about type=\"Taxon\">\\n      <name>Indigofera simplicifolia</name>\\n      <taxonRank>Species</taxonRank>\\n   </about>\\n   <about type=\"Taxon\">\\n      <name>Indigofera spicata</name>\\n      <taxonRank>Species</taxonRank>\\n   </about>\\n   <about type=\"Taxon\">\\n      <name>Tephrosia nana</name>\\n      <taxonRank>Species</taxonRank>\\n   </about>\\n   <about type=\"Taxon\">\\n      <name>Vigna ambacensis</name>\\n      <taxonRank>Species</taxonRank>\\n   </about>\\n   <about type=\"Taxon\">\\n      <name>Lantana trifolia</name>\\n      <taxonRank>Species</taxonRank>\\n   </about>\\n   <about type=\"Taxon\">\\n      <name>Solanum incanum</name>\\n      <taxonRank>Species</taxonRank>\\n   </about>\\n   <about type=\"Taxon\">\\n      <name>Conyza stricta</name>\\n      <taxonRank>Species</taxonRank>\\n   </about>\\n   <about type=\"Taxon\">\\n      <name>Panicum maximum</name>\\n      <taxonRank>Species</taxonRank>\\n   </about>\\n   <about type=\"Taxon\">\\n      <name>Turraea robusta</name>\\n      <taxonRank>Species</taxonRank>\\n   </about>\\n   <about type=\"Taxon\">\\n      <name>Acacia sieberiana</name>\\n      <taxonRank>Species</taxonRank>\\n   </about>\\n   <about type=\"Taxon\">\\n      <name>Tarenna graveolens</name>\\n      <taxonRank>Species</taxonRank>\\n   </about>\\n   <about type=\"Taxon\">\\n      <name>Cissus ovata</name>\\n      <taxonRank>Species</taxonRank>\\n   </about>\\n   <about type=\"Taxon\">\\n      <name>Brachiaria eminii</name>\\n      <taxonRank>Species</taxonRank>\\n   </about>\\n   <about type=\"Taxon\">\\n      <name>Indigofera arrecta</name>\\n      <taxonRank>Species</taxonRank>\\n   </about>\\n   <about type=\"Taxon\">\\n      <name>Leonotis nepetifolia</name>\\n      <taxonRank>Species</taxonRank>\\n   </about>\\n   <about type=\"Taxon\">\\n      <name>Leucas martinicensis</name>\\n      <taxonRank>Species</taxonRank>\\n   </about>\\n   <about type=\"Taxon\">\\n      <name>Hibiscus aethiopicus</name>\\n      <taxonRank>Species</taxonRank>\\n   </about>\\n   <about type=\"Taxon\">\\n      <name>Cissus rotundifolia</name>\\n      <taxonRank>Species</taxonRank>\\n   </about>\\n   <about type=\"Taxon\">\\n      <name>Heteropogon contortus</name>\\n      <taxonRank>Species</taxonRank>\\n   </about>\\n   <about type=\"Taxon\">\\n      <name>Cayratia ibuensis</name>\\n      <taxonRank>Species</taxonRank>\\n   </about>\\n   <about type=\"Taxon\">\\n      <name>Maerua triphylla</name>\\n      <taxonRank>Species</taxonRank>\\n   </about>\\n   <about type=\"Taxon\">\\n      <name>Hibiscus aponeurus</name>\\n      <taxonRank>Species</taxonRank>\\n   </about>\\n   <about type=\"Taxon\">\\n      <name>Piper sp.</name>\\n      <taxonRank>Species</taxonRank>\\n   </about>\\n   <about type=\"Taxon\">\\n      <name>Pavetta albertina</name>\\n      <taxonRank>Species</taxonRank>\\n   </about>\\n   <publisher type=\"Organization\">\\n      <name>GFBio Data Center BGBM</name>\\n      <email>gfbio@bgbm.org</email>\\n      <address>Königin-Luise-Str.6-8, 14195 Berlin, Germany</address>\\n   </publisher>\\n   <maintainer type=\"Organization\">\\n      <name>GFBio Data Center BGBM</name>\\n      <email>gfbio@bgbm.org</email>\\n      <address>Königin-Luise-Str.6-8, 14195 Berlin, Germany</address>\\n   </maintainer>\\n   <contributor type=\"Person\">\\n      <name>Tom Friday Baluku, Maren Gleisberg</name>\\n   </contributor>\\n</jsonld>\\n'"
      ]
     },
     "execution_count": 4,
     "metadata": {},
     "output_type": "execute_result"
    }
   ],
   "source": [
    "# transform ABCD XML to Bioschemas.org-XML using XSLT file \n",
    "\n",
    "#xslt30proc.transform_to_file(source_file=\"example_files/HoffmannPlantsV3.xml\", stylesheet_file=\"abcd2bioschemas-xml.xslt\", output_file=\"example_files/HoffmannPlantsV3_schema.xml\")\n",
    "schema_xml = xslt30proc.transform_to_string(source_file=input_file, stylesheet_file=stylesheet_file)\n",
    "schema_xml"
   ]
  },
  {
   "cell_type": "code",
   "execution_count": 5,
   "id": "de5ebfe4",
   "metadata": {},
   "outputs": [
    {
     "data": {
      "text/plain": [
       "{'@xmlns:abcd': 'http://www.tdwg.org/schemas/abcd/2.06',\n",
       " '@xmlns:efg': 'http://www.synthesys.info/ABCDEFG/1.0',\n",
       " '@xmlns:xs': 'http://www.w3.org/2001/XMLSchema',\n",
       " '@xmlns:xsi': 'http://www.w3.org/2001/XMLSchema-instance',\n",
       " '@context': 'http://schema.org/',\n",
       " '@type': 'Dataset',\n",
       " '@id': 'https://data.bgbm.org/dataset/gfbio/0004/',\n",
       " 'id': 'https://data.bgbm.org/dataset/gfbio/0004/',\n",
       " 'name': 'Plants at Crater Road of Queen Elizabeth National Park, Uganda.',\n",
       " 'url': 'https://data.bgbm.org/dataset/gfbio/0004/',\n",
       " 'description': 'Plant occurrences at Crater Road, Queen Elizabeth National Park, Uganda (April 1995 until March 1997). Project data from Dr. Anke Hoffmann, supplementary data of the dissertation: \"Hoffmann, Anke (1999). Habitat use and population dynamics of small mammals in the grasslands of the Queen Elizabeth National Park, Uganda. Dissertation Technische Universität Carolo-Wilhelmina zu Braunschweig. Braunschweig.\" This dataset was mobilized in co-operation with the DFG-funded project reBiND (http://rebind.bgbm.org/). The following Abstract describes the dissertation: In the grasslands of Queen Elizabeth National Park in Uganda small mammal populations were studied between April 1995 and March 1997 using the capture-mark-release-method and radio-telemetry. The 6 study plots were situated in the Imperata-Cymbopogon-grassland and in the bushland-grassland-mosaic and differed mainly in vegetation, habitat structures, cover and grazing pressure due to big game. The effect of fire was an important aspect to all questions of the study. In total 5.702 catches including 1.295 individuals out of 20 species of the families Muridae (12), Myoxidae (1) und Soricidae (7) were recorded in 65 trapping sessions. The most abundant species were Lemniscomys striatus, Mastomys natalensis and Arvicanthis nairobae. For all plots zoocoenosis and dominance structures are described as well as similarity of fauna and species diversity are compared. The population structures of the 3 most common species are compared in 2 plots of their highest abundance. Emphasis of the investigation is laid on the population development, sex ratio, weight and reproduction. Beyond the survival and turnover rates are determined for these populations. For all species habitat preferences are described. The range lenghts of L. striatus and M. natalensis were ascertained for different plots. Their dependence of population density, sex, sexual activity, body weight, rainfall and bush fire is revised. In all 9 L. striatus, 7 M. natalensis and 8 A. nairobae were radio-tracked successfully and their home range sizes, utilization patterns and activities investigated. For these species an inverse relationship between home range size and population density exists.',\n",
       " 'inLanguage': 'en',\n",
       " 'additionalType': 'HumanObservation',\n",
       " 'dateCreated': '1999-10-19',\n",
       " 'dateModified': '2018-01-22',\n",
       " 'datePublished': '2018-01-22',\n",
       " 'distribution': None,\n",
       " 'isAccessibleForFree': {'@xsi:type': 'xs:boolean', '#text': 'true'},\n",
       " 'size': {'@type': 'QuantitativeValue',\n",
       "  'value': {'@xsi:type': 'xs:int', '#text': '267'},\n",
       "  'unitText': 'records'},\n",
       " 'license': {'@type': 'CreativeWork',\n",
       "  'name': 'CC BY 4.0',\n",
       "  'description': None},\n",
       " 'spatialCoverage': {'@type': 'Country', 'name': 'Uganda', 'identifier': 'UG'},\n",
       " 'temporalCoverage': '1995-06-13/1997-03-13',\n",
       " 'reverse': {'citation': [{'@type': 'CreativeWork',\n",
       "    'name': 'Publication 1 citing this record',\n",
       "    'description': 'Aristida adscensionis cited from Hoffmann',\n",
       "    'identifier': 'https://data-rebind.bgbm.org/gfbio/biocase/pub1'},\n",
       "   {'@type': 'CreativeWork',\n",
       "    'name': 'Publication 2 citing this record',\n",
       "    'description': 'Aristida adscensionis cited from Hoffmann',\n",
       "    'identifier': 'https://data-rebind.bgbm.org/gfbio/biocase/pub2'},\n",
       "   {'@type': 'CreativeWork',\n",
       "    'name': 'Publication 1 citing this record',\n",
       "    'description': 'Bothriochloa insculpta cited from Hoffmann',\n",
       "    'identifier': 'https://data-rebind.bgbm.org/gfbio/biocase/pub1'},\n",
       "   {'@type': 'CreativeWork',\n",
       "    'name': 'Publication 2 citing this record',\n",
       "    'description': 'Bothriochloa insculpta cited from Hoffmann',\n",
       "    'identifier': 'https://data-rebind.bgbm.org/gfbio/biocase/pub2'}]},\n",
       " 'about': [{'@type': 'Taxon',\n",
       "   'name': 'Aristida adscensionis',\n",
       "   'taxonRank': 'Species'},\n",
       "  {'@type': 'Taxon', 'name': 'Bothriochloa insculpta', 'taxonRank': 'Species'},\n",
       "  {'@type': 'Taxon', 'name': 'Cenchrus ciliaris', 'taxonRank': 'Species'},\n",
       "  {'@type': 'Taxon', 'name': 'Chloris gayana', 'taxonRank': 'Species'},\n",
       "  {'@type': 'Taxon', 'name': 'Sporobolus pyramidalis', 'taxonRank': 'Species'},\n",
       "  {'@type': 'Taxon', 'name': 'Themeda triandra', 'taxonRank': 'Species'},\n",
       "  {'@type': 'Taxon', 'name': 'Sida ovata', 'taxonRank': 'Species'},\n",
       "  {'@type': 'Taxon', 'name': 'Acacia hockii', 'taxonRank': 'Species'},\n",
       "  {'@type': 'Taxon', 'name': 'Achyranthes aspera', 'taxonRank': 'Species'},\n",
       "  {'@type': 'Taxon', 'name': 'Capparis tomentosa', 'taxonRank': 'Species'},\n",
       "  {'@type': 'Taxon', 'name': 'Erythrococca bongensis', 'taxonRank': 'Species'},\n",
       "  {'@type': 'Taxon', 'name': 'Euphorbia candelabrum', 'taxonRank': 'Species'},\n",
       "  {'@type': 'Taxon', 'name': 'Flueggea virosa', 'taxonRank': 'Species'},\n",
       "  {'@type': 'Taxon', 'name': 'Hoslundia opposita', 'taxonRank': 'Species'},\n",
       "  {'@type': 'Taxon', 'name': 'Ocimum suave', 'taxonRank': 'Species'},\n",
       "  {'@type': 'Taxon', 'name': 'Abutilon guineense', 'taxonRank': 'Species'},\n",
       "  {'@type': 'Taxon', 'name': 'Grewia similis', 'taxonRank': 'Species'},\n",
       "  {'@type': 'Taxon', 'name': 'Cissus quadrangularis', 'taxonRank': 'Species'},\n",
       "  {'@type': 'Taxon', 'name': 'Hyperthelia dissoluta', 'taxonRank': 'Species'},\n",
       "  {'@type': 'Taxon', 'name': 'Hyparrhenia rufa', 'taxonRank': 'Species'},\n",
       "  {'@type': 'Taxon', 'name': 'Abutilon hirtum', 'taxonRank': 'Species'},\n",
       "  {'@type': 'Taxon', 'name': 'Lantana camara', 'taxonRank': 'Species'},\n",
       "  {'@type': 'Taxon', 'name': 'Euphorbia hirta', 'taxonRank': 'Species'},\n",
       "  {'@type': 'Taxon',\n",
       "   'name': 'Indigofera simplicifolia',\n",
       "   'taxonRank': 'Species'},\n",
       "  {'@type': 'Taxon', 'name': 'Indigofera spicata', 'taxonRank': 'Species'},\n",
       "  {'@type': 'Taxon', 'name': 'Tephrosia nana', 'taxonRank': 'Species'},\n",
       "  {'@type': 'Taxon', 'name': 'Vigna ambacensis', 'taxonRank': 'Species'},\n",
       "  {'@type': 'Taxon', 'name': 'Lantana trifolia', 'taxonRank': 'Species'},\n",
       "  {'@type': 'Taxon', 'name': 'Solanum incanum', 'taxonRank': 'Species'},\n",
       "  {'@type': 'Taxon', 'name': 'Conyza stricta', 'taxonRank': 'Species'},\n",
       "  {'@type': 'Taxon', 'name': 'Panicum maximum', 'taxonRank': 'Species'},\n",
       "  {'@type': 'Taxon', 'name': 'Turraea robusta', 'taxonRank': 'Species'},\n",
       "  {'@type': 'Taxon', 'name': 'Acacia sieberiana', 'taxonRank': 'Species'},\n",
       "  {'@type': 'Taxon', 'name': 'Tarenna graveolens', 'taxonRank': 'Species'},\n",
       "  {'@type': 'Taxon', 'name': 'Cissus ovata', 'taxonRank': 'Species'},\n",
       "  {'@type': 'Taxon', 'name': 'Brachiaria eminii', 'taxonRank': 'Species'},\n",
       "  {'@type': 'Taxon', 'name': 'Indigofera arrecta', 'taxonRank': 'Species'},\n",
       "  {'@type': 'Taxon', 'name': 'Leonotis nepetifolia', 'taxonRank': 'Species'},\n",
       "  {'@type': 'Taxon', 'name': 'Leucas martinicensis', 'taxonRank': 'Species'},\n",
       "  {'@type': 'Taxon', 'name': 'Hibiscus aethiopicus', 'taxonRank': 'Species'},\n",
       "  {'@type': 'Taxon', 'name': 'Cissus rotundifolia', 'taxonRank': 'Species'},\n",
       "  {'@type': 'Taxon', 'name': 'Heteropogon contortus', 'taxonRank': 'Species'},\n",
       "  {'@type': 'Taxon', 'name': 'Cayratia ibuensis', 'taxonRank': 'Species'},\n",
       "  {'@type': 'Taxon', 'name': 'Maerua triphylla', 'taxonRank': 'Species'},\n",
       "  {'@type': 'Taxon', 'name': 'Hibiscus aponeurus', 'taxonRank': 'Species'},\n",
       "  {'@type': 'Taxon', 'name': 'Piper sp.', 'taxonRank': 'Species'},\n",
       "  {'@type': 'Taxon', 'name': 'Pavetta albertina', 'taxonRank': 'Species'},\n",
       "  {'@type': 'Taxon', 'name': 'Plantae', 'taxonRank': 'regnum'},\n",
       "  {'@type': 'Taxon', 'name': 'Gramineae', 'taxonRank': 'familia'},\n",
       "  {'@type': 'Taxon', 'name': 'Malvaceae', 'taxonRank': 'familia'},\n",
       "  {'@type': 'Taxon', 'name': 'Mimosaceae', 'taxonRank': 'familia'},\n",
       "  {'@type': 'Taxon', 'name': 'Amaranthaceae', 'taxonRank': 'familia'},\n",
       "  {'@type': 'Taxon', 'name': 'Capparidaceae', 'taxonRank': 'familia'},\n",
       "  {'@type': 'Taxon', 'name': 'Euphorbiaceae', 'taxonRank': 'familia'},\n",
       "  {'@type': 'Taxon', 'name': 'Labiatae', 'taxonRank': 'familia'},\n",
       "  {'@type': 'Taxon', 'name': 'Tiliaceae', 'taxonRank': 'familia'},\n",
       "  {'@type': 'Taxon', 'name': 'Vitaceae', 'taxonRank': 'familia'},\n",
       "  {'@type': 'Taxon', 'name': 'Verbenaceae', 'taxonRank': 'familia'},\n",
       "  {'@type': 'Taxon', 'name': 'Papilioniaceae', 'taxonRank': 'familia'},\n",
       "  {'@type': 'Taxon', 'name': 'Solanaceae', 'taxonRank': 'familia'},\n",
       "  {'@type': 'Taxon', 'name': 'Compositae', 'taxonRank': 'familia'},\n",
       "  {'@type': 'Taxon', 'name': 'Meliaceae', 'taxonRank': 'familia'},\n",
       "  {'@type': 'Taxon', 'name': 'Rubiaceae', 'taxonRank': 'familia'},\n",
       "  {'@type': 'Taxon', 'name': 'Piperaceae', 'taxonRank': 'familia'},\n",
       "  {'@type': 'Taxon', 'name': 'Aristida adscensionis', 'taxonRank': 'Species'},\n",
       "  {'@type': 'Taxon', 'name': 'Bothriochloa insculpta', 'taxonRank': 'Species'},\n",
       "  {'@type': 'Taxon', 'name': 'Cenchrus ciliaris', 'taxonRank': 'Species'},\n",
       "  {'@type': 'Taxon', 'name': 'Chloris gayana', 'taxonRank': 'Species'},\n",
       "  {'@type': 'Taxon', 'name': 'Sporobolus pyramidalis', 'taxonRank': 'Species'},\n",
       "  {'@type': 'Taxon', 'name': 'Themeda triandra', 'taxonRank': 'Species'},\n",
       "  {'@type': 'Taxon', 'name': 'Sida ovata', 'taxonRank': 'Species'},\n",
       "  {'@type': 'Taxon', 'name': 'Acacia hockii', 'taxonRank': 'Species'},\n",
       "  {'@type': 'Taxon', 'name': 'Achyranthes aspera', 'taxonRank': 'Species'},\n",
       "  {'@type': 'Taxon', 'name': 'Capparis tomentosa', 'taxonRank': 'Species'},\n",
       "  {'@type': 'Taxon', 'name': 'Erythrococca bongensis', 'taxonRank': 'Species'},\n",
       "  {'@type': 'Taxon', 'name': 'Euphorbia candelabrum', 'taxonRank': 'Species'},\n",
       "  {'@type': 'Taxon', 'name': 'Flueggea virosa', 'taxonRank': 'Species'},\n",
       "  {'@type': 'Taxon', 'name': 'Hoslundia opposita', 'taxonRank': 'Species'},\n",
       "  {'@type': 'Taxon', 'name': 'Ocimum suave', 'taxonRank': 'Species'},\n",
       "  {'@type': 'Taxon', 'name': 'Abutilon guineense', 'taxonRank': 'Species'},\n",
       "  {'@type': 'Taxon', 'name': 'Grewia similis', 'taxonRank': 'Species'},\n",
       "  {'@type': 'Taxon', 'name': 'Cissus quadrangularis', 'taxonRank': 'Species'},\n",
       "  {'@type': 'Taxon', 'name': 'Hyperthelia dissoluta', 'taxonRank': 'Species'},\n",
       "  {'@type': 'Taxon', 'name': 'Hyparrhenia rufa', 'taxonRank': 'Species'},\n",
       "  {'@type': 'Taxon', 'name': 'Abutilon hirtum', 'taxonRank': 'Species'},\n",
       "  {'@type': 'Taxon', 'name': 'Lantana camara', 'taxonRank': 'Species'},\n",
       "  {'@type': 'Taxon', 'name': 'Euphorbia hirta', 'taxonRank': 'Species'},\n",
       "  {'@type': 'Taxon',\n",
       "   'name': 'Indigofera simplicifolia',\n",
       "   'taxonRank': 'Species'},\n",
       "  {'@type': 'Taxon', 'name': 'Indigofera spicata', 'taxonRank': 'Species'},\n",
       "  {'@type': 'Taxon', 'name': 'Tephrosia nana', 'taxonRank': 'Species'},\n",
       "  {'@type': 'Taxon', 'name': 'Vigna ambacensis', 'taxonRank': 'Species'},\n",
       "  {'@type': 'Taxon', 'name': 'Lantana trifolia', 'taxonRank': 'Species'},\n",
       "  {'@type': 'Taxon', 'name': 'Solanum incanum', 'taxonRank': 'Species'},\n",
       "  {'@type': 'Taxon', 'name': 'Conyza stricta', 'taxonRank': 'Species'},\n",
       "  {'@type': 'Taxon', 'name': 'Panicum maximum', 'taxonRank': 'Species'},\n",
       "  {'@type': 'Taxon', 'name': 'Turraea robusta', 'taxonRank': 'Species'},\n",
       "  {'@type': 'Taxon', 'name': 'Acacia sieberiana', 'taxonRank': 'Species'},\n",
       "  {'@type': 'Taxon', 'name': 'Tarenna graveolens', 'taxonRank': 'Species'},\n",
       "  {'@type': 'Taxon', 'name': 'Cissus ovata', 'taxonRank': 'Species'},\n",
       "  {'@type': 'Taxon', 'name': 'Brachiaria eminii', 'taxonRank': 'Species'},\n",
       "  {'@type': 'Taxon', 'name': 'Indigofera arrecta', 'taxonRank': 'Species'},\n",
       "  {'@type': 'Taxon', 'name': 'Leonotis nepetifolia', 'taxonRank': 'Species'},\n",
       "  {'@type': 'Taxon', 'name': 'Leucas martinicensis', 'taxonRank': 'Species'},\n",
       "  {'@type': 'Taxon', 'name': 'Hibiscus aethiopicus', 'taxonRank': 'Species'},\n",
       "  {'@type': 'Taxon', 'name': 'Cissus rotundifolia', 'taxonRank': 'Species'},\n",
       "  {'@type': 'Taxon', 'name': 'Heteropogon contortus', 'taxonRank': 'Species'},\n",
       "  {'@type': 'Taxon', 'name': 'Cayratia ibuensis', 'taxonRank': 'Species'},\n",
       "  {'@type': 'Taxon', 'name': 'Maerua triphylla', 'taxonRank': 'Species'},\n",
       "  {'@type': 'Taxon', 'name': 'Hibiscus aponeurus', 'taxonRank': 'Species'},\n",
       "  {'@type': 'Taxon', 'name': 'Piper sp.', 'taxonRank': 'Species'},\n",
       "  {'@type': 'Taxon', 'name': 'Pavetta albertina', 'taxonRank': 'Species'}],\n",
       " 'publisher': {'@type': 'Organization',\n",
       "  'name': 'GFBio Data Center BGBM',\n",
       "  'email': 'gfbio@bgbm.org',\n",
       "  'address': 'Königin-Luise-Str.6-8, 14195 Berlin, Germany'},\n",
       " 'maintainer': {'@type': 'Organization',\n",
       "  'name': 'GFBio Data Center BGBM',\n",
       "  'email': 'gfbio@bgbm.org',\n",
       "  'address': 'Königin-Luise-Str.6-8, 14195 Berlin, Germany'},\n",
       " 'contributor': {'@type': 'Person',\n",
       "  'name': 'Tom Friday Baluku, Maren Gleisberg'}}"
      ]
     },
     "execution_count": 5,
     "metadata": {},
     "output_type": "execute_result"
    }
   ],
   "source": [
    "#transform XML structure to Python dictionary structure\n",
    "schema_dict = xmltodict.parse(schema_xml)\n",
    "schema_dict['jsonld']['@reverse'] = schema_dict['jsonld'].pop('reverse')\n",
    "schema_dict['jsonld']"
   ]
  },
  {
   "cell_type": "code",
   "execution_count": 6,
   "id": "afe776d6",
   "metadata": {},
   "outputs": [
    {
     "ename": "NameError",
     "evalue": "name 's' is not defined",
     "output_type": "error",
     "traceback": [
      "\u001b[1;31m---------------------------------------------------------------------------\u001b[0m",
      "\u001b[1;31mNameError\u001b[0m                                 Traceback (most recent call last)",
      "Cell \u001b[1;32mIn[6], line 1\u001b[0m\n\u001b[1;32m----> 1\u001b[0m \u001b[43ms\u001b[49m\n",
      "\u001b[1;31mNameError\u001b[0m: name 's' is not defined"
     ]
    }
   ],
   "source": [
    "s"
   ]
  },
  {
   "cell_type": "code",
   "execution_count": null,
   "id": "daae8c99",
   "metadata": {},
   "outputs": [],
   "source": [
    "# TODO: aggregate taxon names to higher level here\n",
    "# get about list\n",
    "import pygbif.species as species\n",
    "schema_dict = xmltodict.parse(schema_xml)\n",
    "about_list = schema_dict['jsonld']['about'].copy()\n",
    "# for each entry request taxon information from GBIF and add to dict as taxonInfo\n",
    "for about in about_list[:5]:\n",
    "    taxon = species.name_backbone(name=about['name'])\n",
    "    print(taxon)\n",
    "    about['taxonInfo'] = taxon\n",
    "\n",
    "about_list"
   ]
  },
  {
   "cell_type": "code",
   "execution_count": null,
   "id": "648671ee",
   "metadata": {},
   "outputs": [],
   "source": [
    "schema_dict['jsonld']['about']"
   ]
  },
  {
   "cell_type": "code",
   "execution_count": 2,
   "id": "dcb9feb6",
   "metadata": {},
   "outputs": [
    {
     "ename": "NameError",
     "evalue": "name 'about_list' is not defined",
     "output_type": "error",
     "traceback": [
      "\u001b[1;31m---------------------------------------------------------------------------\u001b[0m",
      "\u001b[1;31mNameError\u001b[0m                                 Traceback (most recent call last)",
      "Cell \u001b[1;32mIn[2], line 1\u001b[0m\n\u001b[1;32m----> 1\u001b[0m \u001b[43mabout_list\u001b[49m\n",
      "\u001b[1;31mNameError\u001b[0m: name 'about_list' is not defined"
     ]
    }
   ],
   "source": [
    "about_list"
   ]
  },
  {
   "cell_type": "code",
   "execution_count": 3,
   "id": "20b3effb",
   "metadata": {},
   "outputs": [
    {
     "ename": "NameError",
     "evalue": "name 'schema_dict' is not defined",
     "output_type": "error",
     "traceback": [
      "\u001b[1;31m---------------------------------------------------------------------------\u001b[0m",
      "\u001b[1;31mNameError\u001b[0m                                 Traceback (most recent call last)",
      "Cell \u001b[1;32mIn[3], line 4\u001b[0m\n\u001b[0;32m      1\u001b[0m \u001b[38;5;66;03m#convert data values\u001b[39;00m\n\u001b[0;32m      2\u001b[0m \u001b[38;5;66;03m#TODO: write algorithm to do that generically\u001b[39;00m\n\u001b[0;32m      3\u001b[0m \u001b[38;5;28;01mtry\u001b[39;00m:\n\u001b[1;32m----> 4\u001b[0m     schema_dict[\u001b[38;5;124m'\u001b[39m\u001b[38;5;124mjsonld\u001b[39m\u001b[38;5;124m'\u001b[39m][\u001b[38;5;124m'\u001b[39m\u001b[38;5;124misAccessibleForFree\u001b[39m\u001b[38;5;124m'\u001b[39m] \u001b[38;5;241m=\u001b[39m \u001b[38;5;28mbool\u001b[39m(\u001b[43mschema_dict\u001b[49m[\u001b[38;5;124m'\u001b[39m\u001b[38;5;124mjsonld\u001b[39m\u001b[38;5;124m'\u001b[39m][\u001b[38;5;124m'\u001b[39m\u001b[38;5;124misAccessibleForFree\u001b[39m\u001b[38;5;124m'\u001b[39m])\n\u001b[0;32m      5\u001b[0m \u001b[38;5;28;01mexcept\u001b[39;00m \u001b[38;5;167;01mKeyError\u001b[39;00m:\n\u001b[0;32m      6\u001b[0m     \u001b[38;5;28;01mpass\u001b[39;00m\n",
      "\u001b[1;31mNameError\u001b[0m: name 'schema_dict' is not defined"
     ]
    }
   ],
   "source": [
    "#convert data values\n",
    "#TODO: write algorithm to do that generically\n",
    "try:\n",
    "    schema_dict['jsonld']['isAccessibleForFree'] = bool(schema_dict['jsonld']['isAccessibleForFree'])\n",
    "except KeyError:\n",
    "    pass\n",
    "    \n",
    "try:\n",
    "    schema_dict['jsonld']['size']['value'] = int(schema_dict['jsonld']['size']['value']['#text'])\n",
    "except KeyError:\n",
    "    pass\n",
    "    \n",
    "try:\n",
    "    schema_dict['jsonld']['geo']['latitude'] = float(schema_dict['jsonld']['geo']['latitude']['#text'])\n",
    "except KeyError:\n",
    "    pass\n",
    "    \n",
    "try:\n",
    "    schema_dict['jsonld']['geo']['longitude'] = float(schema_dict['jsonld']['geo']['longitude']['#text'])\n",
    "except KeyError:\n",
    "    pass"
   ]
  },
  {
   "cell_type": "code",
   "execution_count": 53,
   "id": "79f7876e",
   "metadata": {},
   "outputs": [],
   "source": [
    "#export python \n",
    "schema_json = json.dumps(schema_dict['jsonld']) \n",
    "\n",
    "f = open(input_file_base+\".json\", \"w\")\n",
    "f.write(schema_json)\n",
    "f.close()"
   ]
  },
  {
   "cell_type": "code",
   "execution_count": null,
   "id": "8565aa9e",
   "metadata": {},
   "outputs": [],
   "source": []
  }
 ],
 "metadata": {
  "kernelspec": {
   "display_name": "Python 3 (ipykernel)",
   "language": "python",
   "name": "python3"
  },
  "language_info": {
   "codemirror_mode": {
    "name": "ipython",
    "version": 3
   },
   "file_extension": ".py",
   "mimetype": "text/x-python",
   "name": "python",
   "nbconvert_exporter": "python",
   "pygments_lexer": "ipython3",
   "version": "3.9.4"
  }
 },
 "nbformat": 4,
 "nbformat_minor": 5
}

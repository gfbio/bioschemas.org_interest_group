{
 "cells": [
  {
   "cell_type": "code",
   "execution_count": null,
   "id": "71bcacf7",
   "metadata": {},
   "outputs": [],
   "source": [
    "#if not already installed, install saxonche (https://www.saxonica.com/saxon-c/index.xml ) and xmltodict (https://github.com/martinblech/xmltodict/ ) libraries\n",
    "!pip install saxonche\n",
    "!pip install xmltodict"
   ]
  },
  {
   "cell_type": "code",
   "execution_count": null,
   "id": "c16196d8",
   "metadata": {},
   "outputs": [],
   "source": [
    "import saxonche as saxon\n",
    "import xmltodict, json\n",
    "import os"
   ]
  },
  {
   "cell_type": "code",
   "execution_count": null,
   "id": "0784e107",
   "metadata": {},
   "outputs": [],
   "source": [
    "input_file_base = \"example_files/HoffmannPlantsV3\"\n",
    "input_file = input_file_base + \".xml\"\n",
    "stylesheet_file = \"abcd2bioschemas-xml.xslt\""
   ]
  },
  {
   "cell_type": "code",
   "execution_count": null,
   "id": "daebdd55",
   "metadata": {
    "scrolled": true
   },
   "outputs": [],
   "source": [
    "from saxonche import PySaxonProcessor\n",
    "with PySaxonProcessor(license=False) as proc:\n",
    "    print(\"Test SaxonC on Python\")\n",
    "    print(proc.version)\n",
    "    xslt30proc = proc.new_xslt30_processor()"
   ]
  },
  {
   "cell_type": "code",
   "execution_count": null,
   "id": "9a7df091",
   "metadata": {},
   "outputs": [],
   "source": [
    "# Check if Jupyter notebook has been launched the project's root directory\n",
    "# if os.getcwd().endswith('group') and len(stylesheet_file.split('/')) == 1:\n",
    "#     stylesheet_file = \"transformations/abcd2bioschemas/\" + stylesheet_file\n",
    "#     input_file_base = \"transformations/abcd2bioschemas/\" + input_file_base\n",
    "#     input_file = \"transformations/abcd2bioschemas/\" + input_file"
   ]
  },
  {
   "cell_type": "code",
   "execution_count": null,
   "id": "1daebf42",
   "metadata": {},
   "outputs": [],
   "source": [
    "# transform ABCD XML to Bioschemas.org-XML using XSLT file \n",
    "\n",
    "#xslt30proc.transform_to_file(source_file=\"example_files/HoffmannPlantsV3.xml\", stylesheet_file=\"abcd2bioschemas-xml.xslt\", output_file=\"example_files/HoffmannPlantsV3_schema.xml\")\n",
    "schema_xml = xslt30proc.transform_to_string(source_file=input_file, stylesheet_file=stylesheet_file)\n",
    "schema_xml"
   ]
  },
  {
   "cell_type": "code",
   "execution_count": null,
   "id": "de5ebfe4",
   "metadata": {},
   "outputs": [],
   "source": [
    "#transform XML structure to Python dictionary structure\n",
    "schema_dict = xmltodict.parse(schema_xml)\n",
    "if schema_dict['jsonld'].get('reverse') is not None:\n",
    "    schema_dict['jsonld']['@reverse'] = schema_dict['jsonld'].pop('reverse')\n",
    "schema_dict['jsonld']"
   ]
  },
  {
   "cell_type": "code",
   "execution_count": null,
   "id": "104a5fd3",
   "metadata": {},
   "outputs": [],
   "source": [
    "# Some properties may have a list containing duplicates, e.g., because of multiple ABCD elements being mapped to the same Bioschemas property.\n",
    "# Duplicates can be removed recursively from the dictionary using the following function:\n",
    "def remove_duplicates(d):\n",
    "    if isinstance(d, dict):\n",
    "        for key, value in d.items():\n",
    "            d[key] = remove_duplicates(value)\n",
    "        return d\n",
    "    elif isinstance(d, list):\n",
    "        unique_list = list({json.dumps(item, sort_keys=False): item for item in d}.values())\n",
    "        return [remove_duplicates(item) for item in unique_list]\n",
    "    else:\n",
    "        return d\n",
    "\n",
    "remove_duplicates(schema_dict)"
   ]
  },
  {
   "cell_type": "code",
   "execution_count": null,
   "id": "daae8c99",
   "metadata": {},
   "outputs": [],
   "source": [
    "# TODO: aggregate taxon names to higher level here\n",
    "# get about list\n",
    "# import pygbif.species as species\n",
    "# schema_dict = xmltodict.parse(schema_xml)\n",
    "# about_list = schema_dict['jsonld']['about'].copy()\n",
    "# for each entry request taxon information from GBIF and add to dict as taxonInfo\n",
    "# for about in about_list[:5]:\n",
    "#     taxon = species.name_backbone(name=about['name'])\n",
    "#     print(taxon)\n",
    "#     about['taxonInfo'] = taxon\n",
    "\n",
    "# about_list"
   ]
  },
  {
   "cell_type": "code",
   "execution_count": null,
   "id": "648671ee",
   "metadata": {},
   "outputs": [],
   "source": [
    "# schema_dict['jsonld']['about']"
   ]
  },
  {
   "cell_type": "code",
   "execution_count": null,
   "id": "20b3effb",
   "metadata": {},
   "outputs": [],
   "source": [
    "#convert data values\n",
    "#TODO: write algorithm to do that generically\n",
    "try:\n",
    "    schema_dict['jsonld']['isAccessibleForFree'] = bool(schema_dict['jsonld']['isAccessibleForFree'])\n",
    "except KeyError:\n",
    "    pass\n",
    "    \n",
    "try:\n",
    "    schema_dict['jsonld']['size']['value'] = int(schema_dict['jsonld']['size']['value']['#text'])\n",
    "except KeyError:\n",
    "    pass\n",
    "    \n",
    "try:\n",
    "    schema_dict['jsonld']['geo']['latitude'] = float(schema_dict['jsonld']['geo']['latitude']['#text'])\n",
    "except KeyError:\n",
    "    pass\n",
    "    \n",
    "try:\n",
    "    schema_dict['jsonld']['geo']['longitude'] = float(schema_dict['jsonld']['geo']['longitude']['#text'])\n",
    "except KeyError:\n",
    "    pass"
   ]
  },
  {
   "cell_type": "code",
   "execution_count": null,
   "id": "79f7876e",
   "metadata": {},
   "outputs": [],
   "source": [
    "#export python \n",
    "schema_json = json.dumps(schema_dict['jsonld']) \n",
    "\n",
    "f = open(input_file_base+\".json\", \"w\")\n",
    "f.write(schema_json)\n",
    "f.close()"
   ]
  },
  {
   "cell_type": "code",
   "execution_count": null,
   "id": "8565aa9e",
   "metadata": {},
   "outputs": [],
   "source": []
  }
 ],
 "metadata": {
  "kernelspec": {
   "display_name": "Python 3 (ipykernel)",
   "language": "python",
   "name": "python3"
  },
  "language_info": {
   "codemirror_mode": {
    "name": "ipython",
    "version": 3
   },
   "file_extension": ".py",
   "mimetype": "text/x-python",
   "name": "python",
   "nbconvert_exporter": "python",
   "pygments_lexer": "ipython3",
   "version": "3.11.3"
  }
 },
 "nbformat": 4,
 "nbformat_minor": 5
}
